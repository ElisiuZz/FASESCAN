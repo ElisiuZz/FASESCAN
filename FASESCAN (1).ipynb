{
  "nbformat": 4,
  "nbformat_minor": 0,
  "metadata": {
    "colab": {
      "name": "FASESCAN.ipynb",
      "provenance": [],
      "collapsed_sections": []
    },
    "kernelspec": {
      "name": "python3",
      "display_name": "Python 3"
    },
    "accelerator": "GPU"
  },
  "cells": [
    {
      "cell_type": "code",
      "metadata": {
        "id": "c4R_A0gjb7fn",
        "colab": {
          "base_uri": "https://localhost:8080/"
        },
        "outputId": "534fb876-85a4-4fed-8a7c-e9cc3e37f701"
      },
      "source": [
        "pip install keras pillow numpy"
      ],
      "execution_count": null,
      "outputs": [
        {
          "output_type": "stream",
          "name": "stdout",
          "text": [
            "Requirement already satisfied: keras in /usr/local/lib/python3.7/dist-packages (2.8.0)\n",
            "Requirement already satisfied: pillow in /usr/local/lib/python3.7/dist-packages (7.1.2)\n",
            "Requirement already satisfied: numpy in /usr/local/lib/python3.7/dist-packages (1.21.6)\n"
          ]
        }
      ]
    },
    {
      "cell_type": "code",
      "metadata": {
        "id": "ihLb1F3HuAa4",
        "colab": {
          "base_uri": "https://localhost:8080/"
        },
        "outputId": "4ab564f9-03d6-455c-e360-7dc6b7598427"
      },
      "source": [
        "!pip -q install streamlit\n",
        "!pip -q install pyngrok"
      ],
      "execution_count": null,
      "outputs": [
        {
          "output_type": "stream",
          "name": "stdout",
          "text": [
            "\u001b[K     |████████████████████████████████| 10.1 MB 5.5 MB/s \n",
            "\u001b[K     |████████████████████████████████| 181 kB 42.3 MB/s \n",
            "\u001b[K     |████████████████████████████████| 111 kB 32.9 MB/s \n",
            "\u001b[K     |████████████████████████████████| 4.3 MB 33.1 MB/s \n",
            "\u001b[K     |████████████████████████████████| 76 kB 1.4 MB/s \n",
            "\u001b[K     |████████████████████████████████| 164 kB 10.6 MB/s \n",
            "\u001b[K     |████████████████████████████████| 63 kB 1.4 MB/s \n",
            "\u001b[K     |████████████████████████████████| 131 kB 35.9 MB/s \n",
            "\u001b[K     |████████████████████████████████| 428 kB 49.5 MB/s \n",
            "\u001b[K     |████████████████████████████████| 793 kB 43.4 MB/s \n",
            "\u001b[K     |████████████████████████████████| 130 kB 45.3 MB/s \n",
            "\u001b[K     |████████████████████████████████| 381 kB 44.9 MB/s \n",
            "\u001b[?25h  Building wheel for blinker (setup.py) ... \u001b[?25l\u001b[?25hdone\n",
            "\u001b[31mERROR: pip's dependency resolver does not currently take into account all the packages that are installed. This behaviour is the source of the following dependency conflicts.\n",
            "jupyter-console 5.2.0 requires prompt-toolkit<2.0.0,>=1.0.0, but you have prompt-toolkit 3.0.29 which is incompatible.\n",
            "google-colab 1.0.0 requires ipykernel~=4.10, but you have ipykernel 6.13.0 which is incompatible.\n",
            "google-colab 1.0.0 requires ipython~=5.5.0, but you have ipython 7.33.0 which is incompatible.\n",
            "google-colab 1.0.0 requires tornado~=5.1.0; python_version >= \"3.0\", but you have tornado 6.1 which is incompatible.\u001b[0m\n",
            "\u001b[K     |████████████████████████████████| 745 kB 5.4 MB/s \n",
            "\u001b[?25h  Building wheel for pyngrok (setup.py) ... \u001b[?25l\u001b[?25hdone\n"
          ]
        }
      ]
    },
    {
      "cell_type": "code",
      "metadata": {
        "id": "nrI8dgogDf5b",
        "colab": {
          "base_uri": "https://localhost:8080/"
        },
        "outputId": "0f1cc614-5362-4cc8-a745-30472abe03e7"
      },
      "source": [
        "%%writefile app.py\n",
        "import streamlit as st\n",
        "from img_classification import teachable_machine_classification\n",
        "import keras\n",
        "from PIL import Image, ImageOps\n",
        "import numpy as np\n",
        "st.title(\"Acceso a las instalaciones de la UACH\")\n",
        "st.header(\"Accesos mediante reconocimiento facial\")\n",
        "\n",
        "st.image(\"https://i.ibb.co/88Q9kSy/Imagen1.png\")\n",
        "st.audio(\"https://s19.aconvert.com/convert/p3r68-cdx67/8a66g-3a7ec.mp3\")\n",
        "st.write(\"Inserte fotografia aqui ⬇\")\n",
        "uploaded_file = st.file_uploader(\"Choose a Alumno/No alumno jpg pic ...\", type=\"jpg\")\n",
        "if uploaded_file is not None:\n",
        "  image = Image.open(uploaded_file)\n",
        "  st.image(image, caption='Uploaded pic.', use_column_width=True)\n",
        "  st.write(\"\")\n",
        "  st.write(\"Classifying...\")\n",
        "  label = teachable_machine_classification(image, 'keras_model.h5') # Name of the model from Teachablemachine\n",
        "  if label == 0:\n",
        "    st.write(\"Is a :Alumno:\")\n",
        "  else:\n",
        "    st.write(\"Is a :No alumno:\")"
      ],
      "execution_count": null,
      "outputs": [
        {
          "output_type": "stream",
          "name": "stdout",
          "text": [
            "Writing app.py\n"
          ]
        }
      ]
    },
    {
      "cell_type": "code",
      "metadata": {
        "id": "Xj_O4Cbob18M",
        "colab": {
          "base_uri": "https://localhost:8080/"
        },
        "outputId": "91c9106b-6848-4fa8-9d87-9faf653f9e73"
      },
      "source": [
        "%%writefile img_classification.py\n",
        "import tensorflow.keras\n",
        "from PIL import Image, ImageOps\n",
        "import numpy as np\n",
        "\n",
        "\n",
        "def teachable_machine_classification(img, weights_file):\n",
        "    # Load the model\n",
        "    model = tensorflow.keras.models.load_model(weights_file)\n",
        "\n",
        "    # Create the array of the right shape to feed into the keras model\n",
        "    data = np.ndarray(shape=(1, 224, 224, 3), dtype=np.float32)\n",
        "    image = img\n",
        "    #image sizing\n",
        "    size = (224, 224)\n",
        "    image = ImageOps.fit(image, size, Image.ANTIALIAS)\n",
        "\n",
        "    #turn the image into a numpy array\n",
        "    image_array = np.asarray(image)\n",
        "    # Normalize the image\n",
        "    normalized_image_array = (image_array.astype(np.float32) / 127.0) - 1\n",
        "\n",
        "    # Load the image into the array\n",
        "    data[0] = normalized_image_array  # (Not sure if this is needed, but gives an error!!!)\n",
        "\n",
        "    # run the inference\n",
        "    prediction = model.predict(data)\n",
        "    return np.argmax(prediction) # return position of the highest probability"
      ],
      "execution_count": null,
      "outputs": [
        {
          "output_type": "stream",
          "name": "stdout",
          "text": [
            "Writing img_classification.py\n"
          ]
        }
      ]
    },
    {
      "cell_type": "code",
      "metadata": {
        "id": "FTUt5JjyDkUz",
        "colab": {
          "base_uri": "https://localhost:8080/"
        },
        "outputId": "451f0f87-eaed-4557-d427-27eba1ba4197"
      },
      "source": [
        "#@title This last cell would keep the app running. If stoped, the app would be disconnected.\n",
        "from pyngrok import ngrok\n",
        "public_url = ngrok.connect(port='80')\n",
        "print('Link to web app:')\n",
        "print (public_url)\n",
        "!streamlit run --server.port 80 app.py >/dev/null"
      ],
      "execution_count": null,
      "outputs": [
        {
          "output_type": "stream",
          "name": "stdout",
          "text": [
            "Link to web app:\n",
            "NgrokTunnel: \"http://68e7-35-192-121-165.ngrok.io\" -> \"http://localhost:80\"\n",
            "2022-04-30 20:25:29.595 INFO    numexpr.utils: NumExpr defaulting to 2 threads.\n"
          ]
        }
      ]
    }
  ]
}